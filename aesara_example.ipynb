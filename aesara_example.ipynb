{
 "cells": [
  {
   "cell_type": "code",
   "execution_count": 1,
   "metadata": {},
   "outputs": [],
   "source": [
    "import os\n",
    "import sys"
   ]
  },
  {
   "cell_type": "code",
   "execution_count": 2,
   "metadata": {},
   "outputs": [
    {
     "data": {
      "text/plain": [
       "'2.0.4'"
      ]
     },
     "execution_count": 2,
     "metadata": {},
     "output_type": "execute_result"
    }
   ],
   "source": [
    "import numpy\n",
    "import aesara.tensor as aet\n",
    "from aesara import function\n",
    "import aesara\n",
    "aesara.__version__"
   ]
  },
  {
   "cell_type": "code",
   "execution_count": 3,
   "metadata": {},
   "outputs": [
    {
     "data": {
      "text/plain": [
       "'2.0.4'"
      ]
     },
     "execution_count": 3,
     "metadata": {},
     "output_type": "execute_result"
    }
   ],
   "source": [
    "import aesara\n",
    "aesara.__file__\n",
    "aesara.__version__"
   ]
  },
  {
   "cell_type": "code",
   "execution_count": 4,
   "metadata": {},
   "outputs": [
    {
     "ename": "SyntaxError",
     "evalue": "invalid syntax (<ipython-input-4-a8ba4ac8a51e>, line 1)",
     "output_type": "error",
     "traceback": [
      "\u001b[1;36m  File \u001b[1;32m\"<ipython-input-4-a8ba4ac8a51e>\"\u001b[1;36m, line \u001b[1;32m1\u001b[0m\n\u001b[1;33m    python -c \"import numpy; numpy.test()\"\u001b[0m\n\u001b[1;37m              ^\u001b[0m\n\u001b[1;31mSyntaxError\u001b[0m\u001b[1;31m:\u001b[0m invalid syntax\n"
     ]
    }
   ],
   "source": [
    "python -c \"import numpy; numpy.test()\"\n",
    "python -c \"import scipy; scipy.test()\"\n",
    "pip install pytest\n",
    "AESARA_FLAGS='' pytest tests/"
   ]
  },
  {
   "cell_type": "code",
   "execution_count": 5,
   "metadata": {},
   "outputs": [],
   "source": [
    "import aesara\n",
    "from aesara import tensor as aet\n",
    "from aesara.printing import debugprint\n",
    "\n",
    "# Declare two symbolic floating-point scalars\n",
    "a = aet.dscalar(\"a\")\n",
    "b = aet.dscalar(\"b\")\n",
    "\n",
    "# Create a simple example expression\n",
    "c = a + b\n",
    "\n",
    "# Convert the expression into a callable object that takes `(a, b)`\n",
    "# values as input and computes the value of `c`.\n",
    "f_c = aesara.function([a, b], c)\n",
    "\n",
    "assert f_c(1.5, 2.5) == 4.0"
   ]
  },
  {
   "cell_type": "code",
   "execution_count": 6,
   "metadata": {},
   "outputs": [
    {
     "data": {
      "text/plain": [
       "array(3.)"
      ]
     },
     "execution_count": 6,
     "metadata": {},
     "output_type": "execute_result"
    }
   ],
   "source": [
    "x = aet.dscalar('x')\n",
    "y = aet.dscalar('y')\n",
    "z = x + 1 #+ y\n",
    "f = function([x], z)\n",
    "f(2)"
   ]
  },
  {
   "cell_type": "code",
   "execution_count": 7,
   "metadata": {},
   "outputs": [
    {
     "ename": "NameError",
     "evalue": "name 'array' is not defined",
     "output_type": "error",
     "traceback": [
      "\u001b[1;31m---------------------------------------------------------------------------\u001b[0m",
      "\u001b[1;31mNameError\u001b[0m                                 Traceback (most recent call last)",
      "\u001b[1;32m<ipython-input-7-61d03e49e03b>\u001b[0m in \u001b[0;36m<module>\u001b[1;34m\u001b[0m\n\u001b[0;32m      5\u001b[0m \u001b[0mlogistic\u001b[0m \u001b[1;33m=\u001b[0m \u001b[0maesara\u001b[0m\u001b[1;33m.\u001b[0m\u001b[0mfunction\u001b[0m\u001b[1;33m(\u001b[0m\u001b[1;33m[\u001b[0m\u001b[0mx\u001b[0m\u001b[1;33m]\u001b[0m\u001b[1;33m,\u001b[0m \u001b[0ms\u001b[0m\u001b[1;33m)\u001b[0m\u001b[1;33m\u001b[0m\u001b[1;33m\u001b[0m\u001b[0m\n\u001b[0;32m      6\u001b[0m \u001b[0mlogistic\u001b[0m\u001b[1;33m(\u001b[0m\u001b[1;33m[\u001b[0m\u001b[1;33m[\u001b[0m\u001b[1;36m0\u001b[0m\u001b[1;33m,\u001b[0m \u001b[1;36m1\u001b[0m\u001b[1;33m]\u001b[0m\u001b[1;33m,\u001b[0m \u001b[1;33m[\u001b[0m\u001b[1;33m-\u001b[0m\u001b[1;36m1\u001b[0m\u001b[1;33m,\u001b[0m \u001b[1;33m-\u001b[0m\u001b[1;36m2\u001b[0m\u001b[1;33m]\u001b[0m\u001b[1;33m]\u001b[0m\u001b[1;33m)\u001b[0m\u001b[1;33m\u001b[0m\u001b[1;33m\u001b[0m\u001b[0m\n\u001b[1;32m----> 7\u001b[1;33m array([[ 0.5       ,  0.73105858],\n\u001b[0m\u001b[0;32m      8\u001b[0m        [ 0.26894142,  0.11920292]])\n",
      "\u001b[1;31mNameError\u001b[0m: name 'array' is not defined"
     ]
    }
   ],
   "source": [
    "import aesara\n",
    "import aesara.tensor as aet\n",
    "x = aet.dmatrix('x')\n",
    "s = 1 / (1 + aet.exp(-x))\n",
    "logistic = aesara.function([x], s)\n",
    "logistic([[0, 1], [-1, -2]])\n",
    "array([[ 0.5       ,  0.73105858],\n",
    "       [ 0.26894142,  0.11920292]])"
   ]
  },
  {
   "cell_type": "code",
   "execution_count": 8,
   "metadata": {},
   "outputs": [
    {
     "name": "stdout",
     "output_type": "stream",
     "text": [
      "[[-0.99505475 -0.99505475]\n",
      " [ 0.96471973  0.96471973]\n",
      " [ 0.99998585  0.99998585]\n",
      " [ 0.99998771  0.99998771]\n",
      " [ 1.          1.        ]]\n",
      "[[-0.99505475 -0.99505475]\n",
      " [ 0.96471973  0.96471973]\n",
      " [ 0.99998585  0.99998585]\n",
      " [ 0.99998771  0.99998771]\n",
      " [ 1.          1.        ]]\n"
     ]
    }
   ],
   "source": [
    "import aesara\n",
    "import aesara.tensor as aet\n",
    "import numpy as np\n",
    "\n",
    "# define tensor variables\n",
    "X = aet.vector(\"X\")\n",
    "W = aet.matrix(\"W\")\n",
    "b_sym = aet.vector(\"b_sym\")\n",
    "U = aet.matrix(\"U\")\n",
    "Y = aet.matrix(\"Y\")\n",
    "V = aet.matrix(\"V\")\n",
    "P = aet.matrix(\"P\")\n",
    "\n",
    "results, updates = aesara.scan(lambda y, p, x_tm1: aet.tanh(aet.dot(x_tm1, W) + aet.dot(y, U) + aet.dot(p, V)),\n",
    "          sequences=[Y, P[::-1]], outputs_info=[X])\n",
    "compute_seq = aesara.function(inputs=[X, W, Y, U, P, V], outputs=results)\n",
    "\n",
    "# test values\n",
    "x = np.zeros((2), dtype=aesara.config.floatX)\n",
    "x[1] = 1\n",
    "w = np.ones((2, 2), dtype=aesara.config.floatX)\n",
    "y = np.ones((5, 2), dtype=aesara.config.floatX)\n",
    "y[0, :] = -3\n",
    "u = np.ones((2, 2), dtype=aesara.config.floatX)\n",
    "p = np.ones((5, 2), dtype=aesara.config.floatX)\n",
    "p[0, :] = 3\n",
    "v = np.ones((2, 2), dtype=aesara.config.floatX)\n",
    "\n",
    "print(compute_seq(x, w, y, u, p, v))\n",
    "\n",
    "# comparison with numpy\n",
    "x_res = np.zeros((5, 2), dtype=aesara.config.floatX)\n",
    "x_res[0] = np.tanh(x.dot(w) + y[0].dot(u) + p[4].dot(v))\n",
    "for i in range(1, 5):\n",
    "    x_res[i] = np.tanh(x_res[i - 1].dot(w) + y[i].dot(u) + p[4-i].dot(v))\n",
    "print(x_res)"
   ]
  },
  {
   "cell_type": "code",
   "execution_count": null,
   "metadata": {},
   "outputs": [],
   "source": []
  }
 ],
 "metadata": {
  "kernelspec": {
   "display_name": "nn",
   "language": "python",
   "name": "nn"
  },
  "language_info": {
   "codemirror_mode": {
    "name": "ipython",
    "version": 3
   },
   "file_extension": ".py",
   "mimetype": "text/x-python",
   "name": "python",
   "nbconvert_exporter": "python",
   "pygments_lexer": "ipython3",
   "version": "3.8.5"
  }
 },
 "nbformat": 4,
 "nbformat_minor": 4
}
